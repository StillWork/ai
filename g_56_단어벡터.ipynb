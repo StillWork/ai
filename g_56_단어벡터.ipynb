{
 "cells": [
  {
   "cell_type": "markdown",
   "metadata": {
    "colab_type": "text",
    "id": "view-in-github"
   },
   "source": [
    "<a href=\"https://colab.research.google.com/github/StillWork/c9/blob/master/gg_46_%E1%84%83%E1%85%A1%E1%86%AB%E1%84%8B%E1%85%A5%E1%84%87%E1%85%A6%E1%86%A8%E1%84%90%E1%85%A5_2.ipynb\" target=\"_parent\"><img src=\"https://colab.research.google.com/assets/colab-badge.svg\" alt=\"Open In Colab\"/></a>"
   ]
  },
  {
   "cell_type": "markdown",
   "metadata": {
    "colab_type": "text",
    "id": "RSiTy5MDXBnt"
   },
   "source": [
    "# 단어벡터\n",
    "- 빅카인즈 뉴스기사 데이터 활용(https://www.bigkinds.or.kr/)"
   ]
  },
  {
   "cell_type": "markdown",
   "metadata": {
    "colab_type": "text",
    "id": "6VHnsDHlXBn7"
   },
   "source": [
    "# 뉴스를 이용한 단어 벡터 생성"
   ]
  },
  {
   "cell_type": "code",
   "execution_count": 0,
   "metadata": {
    "colab": {
     "base_uri": "https://localhost:8080/",
     "height": 232
    },
    "colab_type": "code",
    "id": "xDM2364masZe",
    "outputId": "69c1d1a5-80ff-49d5-d369-532d76865415"
   },
   "outputs": [
    {
     "name": "stdout",
     "output_type": "stream",
     "text": [
      "Collecting konlpy\n",
      "\u001b[?25l  Downloading https://files.pythonhosted.org/packages/e5/3d/4e983cd98d87b50b2ab0387d73fa946f745aa8164e8888a714d5129f9765/konlpy-0.5.1-py2.py3-none-any.whl (19.4MB)\n",
      "\u001b[K     |████████████████████████████████| 19.4MB 3.1MB/s \n",
      "\u001b[?25hCollecting JPype1>=0.5.7 (from konlpy)\n",
      "\u001b[?25l  Downloading https://files.pythonhosted.org/packages/c4/4b/60a3e63d51714d4d7ef1b1efdf84315d118a0a80a5b085bb52a7e2428cdc/JPype1-0.6.3.tar.gz (168kB)\n",
      "\u001b[K     |████████████████████████████████| 174kB 49.5MB/s \n",
      "\u001b[?25hBuilding wheels for collected packages: JPype1\n",
      "  Building wheel for JPype1 (setup.py) ... \u001b[?25l\u001b[?25hdone\n",
      "  Stored in directory: /root/.cache/pip/wheels/0e/2b/e8/c0b818ac4b3d35104d35e48cdc7afe27fc06ea277feed2831a\n",
      "Successfully built JPype1\n",
      "Installing collected packages: JPype1, konlpy\n",
      "Successfully installed JPype1-0.6.3 konlpy-0.5.1\n"
     ]
    }
   ],
   "source": [
    "!pip install konlpy"
   ]
  },
  {
   "cell_type": "code",
   "execution_count": 0,
   "metadata": {
    "colab": {},
    "colab_type": "code",
    "id": "TcpN2NDuXBn9"
   },
   "outputs": [],
   "source": [
    "from konlpy.tag import Kkma\n",
    "from gensim.models.word2vec import Word2Vec\n",
    "kkma = Kkma()"
   ]
  },
  {
   "cell_type": "markdown",
   "metadata": {
    "colab_type": "text",
    "id": "7R5lqDRhXBoy"
   },
   "source": [
    "# IT 뉴스기사를 이용한 단어 벡터"
   ]
  },
  {
   "cell_type": "code",
   "execution_count": 0,
   "metadata": {
    "colab": {
     "base_uri": "https://localhost:8080/",
     "height": 508
    },
    "colab_type": "code",
    "id": "_xmQLbrQqNhq",
    "outputId": "6d5b8c31-b5af-4897-8375-345987903733"
   },
   "outputs": [
    {
     "name": "stdout",
     "output_type": "stream",
     "text": [
      "--2019-05-31 16:44:39--  https://bit.ly/2X7UON2\n",
      "Resolving bit.ly (bit.ly)... 67.199.248.10, 67.199.248.11\n",
      "Connecting to bit.ly (bit.ly)|67.199.248.10|:443... connected.\n",
      "HTTP request sent, awaiting response... 301 Moved Permanently\n",
      "Location: https://www.dropbox.com/s/gr5jhlshp8m3iqn/NewsResult_20181128-20190228.xlsx [following]\n",
      "--2019-05-31 16:44:39--  https://www.dropbox.com/s/gr5jhlshp8m3iqn/NewsResult_20181128-20190228.xlsx\n",
      "Resolving www.dropbox.com (www.dropbox.com)... 162.125.8.1, 2620:100:601b:1::a27d:801\n",
      "Connecting to www.dropbox.com (www.dropbox.com)|162.125.8.1|:443... connected.\n",
      "HTTP request sent, awaiting response... 301 Moved Permanently\n",
      "Location: /s/raw/gr5jhlshp8m3iqn/NewsResult_20181128-20190228.xlsx [following]\n",
      "--2019-05-31 16:44:40--  https://www.dropbox.com/s/raw/gr5jhlshp8m3iqn/NewsResult_20181128-20190228.xlsx\n",
      "Reusing existing connection to www.dropbox.com:443.\n",
      "HTTP request sent, awaiting response... 302 Found\n",
      "Location: https://ucb6ef4b0a653d85cc7610a14b40.dl.dropboxusercontent.com/cd/0/inline/Ah_0vdXnMKFBdxOtWJeaphLLIAiY34MuVAVo3tyBsnYE25UWIu9trY0H_h2DeKOXTLGXagD1sUv5eFMV5b03jF1N2cTdWEtNUSFP3HwDzn1Weg/file# [following]\n",
      "--2019-05-31 16:44:40--  https://ucb6ef4b0a653d85cc7610a14b40.dl.dropboxusercontent.com/cd/0/inline/Ah_0vdXnMKFBdxOtWJeaphLLIAiY34MuVAVo3tyBsnYE25UWIu9trY0H_h2DeKOXTLGXagD1sUv5eFMV5b03jF1N2cTdWEtNUSFP3HwDzn1Weg/file\n",
      "Resolving ucb6ef4b0a653d85cc7610a14b40.dl.dropboxusercontent.com (ucb6ef4b0a653d85cc7610a14b40.dl.dropboxusercontent.com)... 162.125.8.6, 2620:100:601b:6::a27d:806\n",
      "Connecting to ucb6ef4b0a653d85cc7610a14b40.dl.dropboxusercontent.com (ucb6ef4b0a653d85cc7610a14b40.dl.dropboxusercontent.com)|162.125.8.6|:443... connected.\n",
      "HTTP request sent, awaiting response... 302 FOUND\n",
      "Location: /cd/0/inline2/Ah_tJRcrWmWFssdDiOiFhHRG2gPLwfhGWPfNBMV_2Vlqjr_ADdrGjoK3ht679GiNKZn_9Rl9YYpDNZiOlDVHwYxENnWX8728tvKy2aHeTIQf1XfOyi481bZ5b1Dx4Yd4aRpzxirb9sE4_sWxF9KDVF8H0QpA-9jQ8iE8EbJdhYN5kJjoRU_A1l1rSqkNm3i7eyaeaqt6aLKGsgVGOVdZGi0oYn7g-oZotEIy0rebzeszlo3CGamkaD2GhhzTMkYcOqNhr4uutcxTsL6dc3L6dbL7c9cQ-ALqvWwa52nTX6-TanrbLcAuwKlN8JUWvEa0ysF_tRnAzmssMds0QWIDHhRL/file [following]\n",
      "--2019-05-31 16:44:40--  https://ucb6ef4b0a653d85cc7610a14b40.dl.dropboxusercontent.com/cd/0/inline2/Ah_tJRcrWmWFssdDiOiFhHRG2gPLwfhGWPfNBMV_2Vlqjr_ADdrGjoK3ht679GiNKZn_9Rl9YYpDNZiOlDVHwYxENnWX8728tvKy2aHeTIQf1XfOyi481bZ5b1Dx4Yd4aRpzxirb9sE4_sWxF9KDVF8H0QpA-9jQ8iE8EbJdhYN5kJjoRU_A1l1rSqkNm3i7eyaeaqt6aLKGsgVGOVdZGi0oYn7g-oZotEIy0rebzeszlo3CGamkaD2GhhzTMkYcOqNhr4uutcxTsL6dc3L6dbL7c9cQ-ALqvWwa52nTX6-TanrbLcAuwKlN8JUWvEa0ysF_tRnAzmssMds0QWIDHhRL/file\n",
      "Reusing existing connection to ucb6ef4b0a653d85cc7610a14b40.dl.dropboxusercontent.com:443.\n",
      "HTTP request sent, awaiting response... 200 OK\n",
      "Length: 1832194 (1.7M) [application/vnd.openxmlformats-officedocument.spreadsheetml.sheet]\n",
      "Saving to: ‘news2018.xlsx’\n",
      "\n",
      "news2018.xlsx       100%[===================>]   1.75M  10.7MB/s    in 0.2s    \n",
      "\n",
      "2019-05-31 16:44:41 (10.7 MB/s) - ‘news2018.xlsx’ saved [1832194/1832194]\n",
      "\n"
     ]
    }
   ],
   "source": [
    "!wget https://bit.ly/2X7UON2 -O news2018.xlsx"
   ]
  },
  {
   "cell_type": "code",
   "execution_count": 8,
   "metadata": {
    "colab": {},
    "colab_type": "code",
    "id": "tGECncx5p1oY"
   },
   "outputs": [],
   "source": [
    "import pandas as pd"
   ]
  },
  {
   "cell_type": "code",
   "execution_count": 9,
   "metadata": {},
   "outputs": [
    {
     "name": "stdout",
     "output_type": "stream",
     "text": [
      "  % Total    % Received % Xferd  Average Speed   Time    Time     Time  Current\n",
      "                                 Dload  Upload   Total   Spent    Left  Speed\n",
      "100 1789k  100 1789k    0     0   529k      0  0:00:03  0:00:03 --:--:--  529k\n"
     ]
    }
   ],
   "source": [
    "!curl https://raw.githubusercontent.com/StillWork/data/master/news.xlsx\\\n",
    "    -o news.xlsx"
   ]
  },
  {
   "cell_type": "code",
   "execution_count": 11,
   "metadata": {
    "colab": {
     "base_uri": "https://localhost:8080/",
     "height": 98
    },
    "colab_type": "code",
    "id": "7hEHJK87qjTU",
    "outputId": "07dee08f-c85d-4a32-db86-3f8951f4c7d3"
   },
   "outputs": [
    {
     "data": {
      "text/plain": [
       "0    - 비핵화 수준 상응 조치 놓고\\n- 양국 협상팀 막판까지 ‘밀당’\\n- 1차 때와...\n",
       "1    김정은 국무위원장이 27일 시작되는 제2차 북미정상회담 성공을 위해 심혈을 기울이고...\n",
       "2    북미가 처음으로 정상 간 단독회담과 만찬을 가지며 또다시 새로운 역사 창조에 나섰다...\n",
       "3    지난해 9월 남북정상회담 당시 리선권 북한 조국평화통일위원장의 '냉면' 발언으로 정...\n",
       "Name: 본문, dtype: object"
      ]
     },
     "execution_count": 11,
     "metadata": {},
     "output_type": "execute_result"
    }
   ],
   "source": [
    "news[\"본문\"][:4]"
   ]
  },
  {
   "cell_type": "code",
   "execution_count": 12,
   "metadata": {
    "colab": {
     "base_uri": "https://localhost:8080/",
     "height": 53
    },
    "colab_type": "code",
    "id": "2Ka2_a8xq-P3",
    "outputId": "25796ee1-7c10-4e25-cda5-495d42fcc903"
   },
   "outputs": [
    {
     "ename": "NameError",
     "evalue": "name 'kkma' is not defined",
     "output_type": "error",
     "traceback": [
      "\u001b[0;31m---------------------------------------------------------------------------\u001b[0m",
      "\u001b[0;31mNameError\u001b[0m                                 Traceback (most recent call last)",
      "\u001b[0;32m<ipython-input-12-4202ee440272>\u001b[0m in \u001b[0;36m<module>\u001b[0;34m\u001b[0m\n\u001b[1;32m      3\u001b[0m \u001b[0;34m\u001b[0m\u001b[0m\n\u001b[1;32m      4\u001b[0m     \u001b[0;31m## 명사만 추출\u001b[0m\u001b[0;34m\u001b[0m\u001b[0;34m\u001b[0m\u001b[0;34m\u001b[0m\u001b[0m\n\u001b[0;32m----> 5\u001b[0;31m     \u001b[0msent_kkma_pos\u001b[0m \u001b[0;34m=\u001b[0m \u001b[0mkkma\u001b[0m\u001b[0;34m.\u001b[0m\u001b[0mnouns\u001b[0m\u001b[0;34m(\u001b[0m\u001b[0msent\u001b[0m\u001b[0;34m)\u001b[0m\u001b[0;34m\u001b[0m\u001b[0;34m\u001b[0m\u001b[0m\n\u001b[0m\u001b[1;32m      6\u001b[0m     \u001b[0mword_list\u001b[0m \u001b[0;34m=\u001b[0m \u001b[0;34m[\u001b[0m\u001b[0;34m]\u001b[0m\u001b[0;34m\u001b[0m\u001b[0;34m\u001b[0m\u001b[0m\n\u001b[1;32m      7\u001b[0m     \u001b[0;32mfor\u001b[0m \u001b[0mword_pos\u001b[0m \u001b[0;32min\u001b[0m \u001b[0msent_kkma_pos\u001b[0m\u001b[0;34m:\u001b[0m\u001b[0;34m\u001b[0m\u001b[0;34m\u001b[0m\u001b[0m\n",
      "\u001b[0;31mNameError\u001b[0m: name 'kkma' is not defined"
     ]
    }
   ],
   "source": [
    "sentence_list = []\n",
    "for sent in news[\"본문\"]:\n",
    "    \n",
    "    ## 명사만 추출\n",
    "    sent_kkma_pos = kkma.nouns(sent)\n",
    "    word_list = []\n",
    "    for word_pos in sent_kkma_pos:\n",
    "        word_list.append(word_pos)\n",
    "\n",
    "    sentence_list.append(word_list)\n",
    "\n",
    "print(sentence_list[0:3])"
   ]
  },
  {
   "cell_type": "code",
   "execution_count": 0,
   "metadata": {
    "colab": {
     "base_uri": "https://localhost:8080/",
     "height": 33
    },
    "colab_type": "code",
    "id": "dTq-vtCar0JC",
    "outputId": "29f8b7fa-b2c1-4e3b-c13a-0b30b34f90bb"
   },
   "outputs": [
    {
     "data": {
      "text/plain": [
       "(1543, 19)"
      ]
     },
     "execution_count": 9,
     "metadata": {
      "tags": []
     },
     "output_type": "execute_result"
    }
   ],
   "source": [
    "news.shape"
   ]
  },
  {
   "cell_type": "code",
   "execution_count": 0,
   "metadata": {
    "colab": {
     "base_uri": "https://localhost:8080/",
     "height": 265
    },
    "colab_type": "code",
    "id": "WvEiKwbiXBo7",
    "outputId": "bef52341-29da-46da-d8fd-738c5e18fb92"
   },
   "outputs": [
    {
     "name": "stderr",
     "output_type": "stream",
     "text": [
      "/usr/local/lib/python3.6/dist-packages/ipykernel_launcher.py:2: DeprecationWarning: Call to deprecated `most_similar` (Method will be removed in 4.0.0, use self.wv.most_similar() instead).\n",
      "  \n",
      "/usr/local/lib/python3.6/dist-packages/gensim/matutils.py:737: FutureWarning: Conversion of the second argument of issubdtype from `int` to `np.signedinteger` is deprecated. In future, it will be treated as `np.int64 == np.dtype(int).type`.\n",
      "  if np.issubdtype(vec.dtype, np.int):\n"
     ]
    },
    {
     "data": {
      "text/plain": [
       "[('자유', 0.9994584918022156),\n",
       " ('당', 0.9988424777984619),\n",
       " ('민주당', 0.9944784641265869),\n",
       " ('대표', 0.9937443137168884),\n",
       " ('자유한국', 0.9928138256072998),\n",
       " ('원내대표', 0.9908150434494019),\n",
       " ('원내', 0.9905933141708374),\n",
       " ('경원', 0.9899283051490784),\n",
       " ('나경원', 0.9882274866104126),\n",
       " ('평화체제', 0.9876872897148132)]"
      ]
     },
     "execution_count": 11,
     "metadata": {
      "tags": []
     },
     "output_type": "execute_result"
    }
   ],
   "source": [
    "model = Word2Vec(sentence_list, size=100)\n",
    "model.most_similar(\"한국\")"
   ]
  },
  {
   "cell_type": "code",
   "execution_count": 0,
   "metadata": {
    "colab": {
     "base_uri": "https://localhost:8080/",
     "height": 216
    },
    "colab_type": "code",
    "id": "Pjiz6wLRXBpB",
    "outputId": "66fd7ad8-1203-4553-bf19-17ebc3eb55e9"
   },
   "outputs": [
    {
     "name": "stdout",
     "output_type": "stream",
     "text": [
      "0.9909685\n",
      "0.43306908\n",
      "0.9595223\n"
     ]
    },
    {
     "name": "stderr",
     "output_type": "stream",
     "text": [
      "/usr/local/lib/python3.6/dist-packages/ipykernel_launcher.py:1: DeprecationWarning: Call to deprecated `similarity` (Method will be removed in 4.0.0, use self.wv.similarity() instead).\n",
      "  \"\"\"Entry point for launching an IPython kernel.\n",
      "/usr/local/lib/python3.6/dist-packages/gensim/matutils.py:737: FutureWarning: Conversion of the second argument of issubdtype from `int` to `np.signedinteger` is deprecated. In future, it will be treated as `np.int64 == np.dtype(int).type`.\n",
      "  if np.issubdtype(vec.dtype, np.int):\n",
      "/usr/local/lib/python3.6/dist-packages/ipykernel_launcher.py:2: DeprecationWarning: Call to deprecated `similarity` (Method will be removed in 4.0.0, use self.wv.similarity() instead).\n",
      "  \n",
      "/usr/local/lib/python3.6/dist-packages/ipykernel_launcher.py:3: DeprecationWarning: Call to deprecated `similarity` (Method will be removed in 4.0.0, use self.wv.similarity() instead).\n",
      "  This is separate from the ipykernel package so we can avoid doing imports until\n"
     ]
    }
   ],
   "source": [
    "print(model.similarity(\"트럼프\",\"미국\"))\n",
    "print(model.similarity(\"한국\",\"미국\"))"
   ]
  },
  {
   "cell_type": "code",
   "execution_count": null,
   "metadata": {},
   "outputs": [],
   "source": [
    "model.most_similar(positive=[\"한국\", '워싱턴'], negative=[\"서울\"])"
   ]
  }
 ],
 "metadata": {
  "accelerator": "GPU",
  "colab": {
   "collapsed_sections": [],
   "name": "g_49_단어벡터.ipynb",
   "provenance": []
  },
  "kernelspec": {
   "display_name": "Python 3",
   "language": "python",
   "name": "python3"
  },
  "language_info": {
   "codemirror_mode": {
    "name": "ipython",
    "version": 3
   },
   "file_extension": ".py",
   "mimetype": "text/x-python",
   "name": "python",
   "nbconvert_exporter": "python",
   "pygments_lexer": "ipython3",
   "version": "3.7.6"
  },
  "toc": {
   "base_numbering": 1,
   "nav_menu": {},
   "number_sections": true,
   "sideBar": true,
   "skip_h1_title": false,
   "title_cell": "Table of Contents",
   "title_sidebar": "Contents",
   "toc_cell": false,
   "toc_position": {},
   "toc_section_display": true,
   "toc_window_display": false
  }
 },
 "nbformat": 4,
 "nbformat_minor": 1
}
